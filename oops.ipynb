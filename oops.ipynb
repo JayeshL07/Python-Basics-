{
 "cells": [
  {
   "cell_type": "code",
   "execution_count": null,
   "metadata": {},
   "outputs": [
    {
     "name": "stdout",
     "output_type": "stream",
     "text": [
      "Make: Toyota\n",
      "Model: Camry\n",
      "Year: 2020\n",
      "Updated Year: 2023\n",
      "Make: Toyota\n",
      "Model: Camry\n",
      "Year: 2023\n"
     ]
    }
   ],
   "source": [
    "class Vehicle:\n",
    "    def __init__(self, make, model, year):\n",
    "        self.make = make\n",
    "        self.model = model\n",
    "        self.year = year\n",
    "\n",
    "    def display_details(self):\n",
    "        print(f\"Make: {self.make}\\nModel: {self.model}\\nYear: {self.year}\")\n",
    "\n",
    "    def update_year(self, new_year):\n",
    "        self.year = new_year\n",
    "        print(f\"Updated Year: {self.year}\")\n",
    "\n",
    "\n",
    "car = Vehicle(\"Toyota\", \"Camry\", 2020)\n",
    "car.display_details()\n",
    "car.update_year(2023)\n",
    "car.display_details() \n"
   ]
  },
  {
   "cell_type": "code",
   "execution_count": 3,
   "metadata": {},
   "outputs": [],
   "source": [
    "\n",
    "class Library:\n",
    "    def __init__(self):\n",
    "        self.books = []\n",
    "\n",
    "    def add_book(self, book):\n",
    "        self.books.append(book)\n",
    "\n",
    "    def remove_book(self, book):\n",
    "        self.books.remove(book)\n",
    "\n",
    "    def list_books(self):\n",
    "        for book in self.books:\n",
    "            print(book)"
   ]
  },
  {
   "cell_type": "code",
   "execution_count": null,
   "metadata": {},
   "outputs": [],
   "source": [
    "class Student:\n",
    "\n",
    "    school_name = \"XYZ School\"\n",
    "\n",
    "    def __init__(self, name, age):\n",
    "        self.name = name\n",
    "        self.age = age\n",
    "\n",
    "    def display_info(self):\n",
    "        print(f\"Name: {self.name}\\nAge: {self.age}\\nSchool: {self.school_name}\")\n",
    "\n",
    "    def change_school_name(self, new_name):\n",
    "        self.school_name = new_name\n",
    "        print(f\"School Name: {self.school_name}\")\n",
    "\n",
    "    def change_name(self, new_name):\n",
    "        self.name = new_name\n",
    "        print(f\"Name: {self.name}\")\n",
    "\n",
    "                    "
   ]
  },
  {
   "cell_type": "code",
   "execution_count": null,
   "metadata": {},
   "outputs": [],
   "source": [
    "def check_even_list(num_list):\n",
    "    for num in num_list:\n",
    "        if num % 2 == 0:\n",
    "            return True\n",
    "    return False    "
   ]
  },
  {
   "cell_type": "code",
   "execution_count": null,
   "metadata": {},
   "outputs": [
    {
     "name": "stdout",
     "output_type": "stream",
     "text": [
      "Bark\n",
      "Meow\n"
     ]
    }
   ],
   "source": [
    "#Inheritance example with object definition and call\n",
    "\n",
    "class Animal:\n",
    "    def __init__(self, name):\n",
    "        self.name = name\n",
    "\n",
    "    def make_sound(self):\n",
    "        pass\n",
    "\n",
    "class Dog(Animal):\n",
    "    def make_sound(self):\n",
    "        print(\"Bark\")    \n",
    "\n",
    "class Cat(Animal):\n",
    "    def make_sound(self):\n",
    "        print(\"Meow\")    \n",
    "\n",
    "dog = Dog(\"Max\")\n",
    "dog.make_sound()\n",
    "\n",
    "cat = Cat(\"Whiskers\")\n",
    "cat.make_sound()"
   ]
  },
  {
   "cell_type": "code",
   "execution_count": null,
   "metadata": {},
   "outputs": [],
   "source": [
    "#python program to demonstrate how parent constructors are called\n",
    "\n",
    "#parent class\n",
    "class Person(object):\n",
    "    #constructor\n",
    "    def __init__(self, name, idnumber):\n",
    "        self.name = name\n",
    "        self.idnumber = idnumber\n",
    "\n",
    "    def display(self):\n",
    "        print(self.name)\n",
    "        print(self.idnumber)"
   ]
  },
  {
   "cell_type": "code",
   "execution_count": null,
   "metadata": {},
   "outputs": [],
   "source": [
    "#child class\n",
    "class Employee(Person):\n",
    "    def __init__(self, name, idnumber, salary, post):\n",
    "        self.salary = salary\n",
    "        self.post = post\n",
    "\n",
    "        #invoking the __init__ of the parent class\n",
    "        Person.__init__(self, name, idnumber)\n",
    "        "
   ]
  },
  {
   "cell_type": "code",
   "execution_count": null,
   "metadata": {},
   "outputs": [
    {
     "name": "stdout",
     "output_type": "stream",
     "text": [
      "\n",
      "Creating Child Object:\n",
      "Dad Constructor\n",
      "Child Constructor\n",
      "Child Display\n",
      "This is Dad's method.\n",
      "This is Mom's method.\n",
      "This is Child's method.\n"
     ]
    }
   ],
   "source": [
    "class Dad:\n",
    "    def __init__(self):\n",
    "        print(\"Dad Constructor\")\n",
    "\n",
    "    def dad_method(self):\n",
    "        print(\"This is Dad's method.\")\n",
    "\n",
    "    def display(self):\n",
    "        print(\"Dad Display\")\n",
    "\n",
    "\n",
    "class Mom:\n",
    "    def __init__(self):\n",
    "        print(\"Mom Constructor\")\n",
    "\n",
    "    def mom_method(self):\n",
    "        print(\"This is Mom's method.\")\n",
    "\n",
    "    def display(self):\n",
    "        print(\"Mom Display\")\n",
    "\n",
    "\n",
    "class Child(Dad, Mom):\n",
    "    def __init__(self):\n",
    "        super().__init__() \n",
    "        print(\"Child Constructor\")\n",
    "\n",
    "    def child_method(self):\n",
    "        print(\"This is Child's method.\")\n",
    "\n",
    "    def display(self):\n",
    "        print(\"Child Display\")\n",
    "\n",
    "\n",
    "print(\"\\nCreating Child Object:\")\n",
    "child_obj = Child()\n",
    "child_obj.display()  # Calls Child's display method\n",
    "child_obj.dad_method()  # Calls Dad's method\n",
    "child_obj.mom_method()  # Calls Mom's method\n",
    "child_obj.child_method()  # Calls Child's method\n"
   ]
  },
  {
   "cell_type": "code",
   "execution_count": 17,
   "metadata": {},
   "outputs": [
    {
     "name": "stdout",
     "output_type": "stream",
     "text": [
      "This is a sport: Cricket\n",
      "Player: Sachin Tendulkar, Runs Scored: 18426\n",
      "This is a sport: Football\n",
      "Player: Lionel Messi, Goals Scored: 672\n"
     ]
    }
   ],
   "source": [
    "class Sport:\n",
    "    def __init__(self, name):  # Corrected __init__ method\n",
    "        self.name = name\n",
    "    \n",
    "    def display_info(self):\n",
    "        print(f\"This is a sport: {self.name}\")\n",
    "\n",
    "class Cricket(Sport):\n",
    "    def __init__(self, player_name, runs_scored):  # Corrected __init__ method\n",
    "        super().__init__(\"Cricket\")  # Corrected super() call\n",
    "        self.player_name = player_name\n",
    "        self.runs_scored = runs_scored\n",
    "    \n",
    "    def display_player_info(self):\n",
    "        print(f\"Player: {self.player_name}, Runs Scored: {self.runs_scored}\")\n",
    "\n",
    "class Football(Sport):\n",
    "    def __init__(self, player_name, goals_scored):  # Corrected __init__ method\n",
    "        super().__init__(\"Football\")  # Corrected super() call\n",
    "        self.player_name = player_name\n",
    "        self.goals_scored = goals_scored\n",
    "    \n",
    "    def display_player_info(self):\n",
    "        print(f\"Player: {self.player_name}, Goals Scored: {self.goals_scored}\")\n",
    "\n",
    "# Creating objects and testing methods\n",
    "cricketer = Cricket(\"Sachin Tendulkar\", 18426)\n",
    "footballer = Football(\"Lionel Messi\", 672)\n",
    "\n",
    "cricketer.display_info()  \n",
    "cricketer.display_player_info()\n",
    "\n",
    "footballer.display_info()  \n",
    "footballer.display_player_info()\n"
   ]
  }
 ],
 "metadata": {
  "kernelspec": {
   "display_name": "Python 3",
   "language": "python",
   "name": "python3"
  },
  "language_info": {
   "codemirror_mode": {
    "name": "ipython",
    "version": 3
   },
   "file_extension": ".py",
   "mimetype": "text/x-python",
   "name": "python",
   "nbconvert_exporter": "python",
   "pygments_lexer": "ipython3",
   "version": "3.12.6"
  }
 },
 "nbformat": 4,
 "nbformat_minor": 2
}
