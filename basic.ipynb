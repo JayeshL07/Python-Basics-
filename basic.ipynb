{
 "cells": [
  {
   "cell_type": "code",
   "execution_count": 12,
   "metadata": {},
   "outputs": [
    {
     "data": {
      "text/plain": [
       "'Hellllloo'"
      ]
     },
     "execution_count": 12,
     "metadata": {},
     "output_type": "execute_result"
    }
   ],
   "source": [
    "\"Hellllloo\""
   ]
  },
  {
   "cell_type": "code",
   "execution_count": 13,
   "metadata": {},
   "outputs": [
    {
     "name": "stdout",
     "output_type": "stream",
     "text": [
      "Hello How are you\n",
      "H\n",
      "llo\n",
      "llo How are you\n",
      "Hello How are youHello How are you\n",
      "Hello How are youTEST\n"
     ]
    }
   ],
   "source": [
    "str = \"Hello How are you\"\n",
    "print(str)\n",
    "print(str[0])\n",
    "print(str[2:5])\n",
    "print(str[2:])\n",
    "print(str * 2)\n",
    "print(str + \"TEST\")"
   ]
  },
  {
   "cell_type": "code",
   "execution_count": 14,
   "metadata": {},
   "outputs": [
    {
     "name": "stdout",
     "output_type": "stream",
     "text": [
      "[1, 2, 3, 4]\n",
      "1\n",
      "[2, 3]\n"
     ]
    }
   ],
   "source": [
    "# Lists\n",
    "list = [1, 2, 3, 4]\n",
    "print(list) # Prints complete list\n",
    "print(list[0]) # Prints first element of the list\n",
    "print(list[1:3]) # Prints elements starting from 2nd till 3rd"
   ]
  },
  {
   "cell_type": "code",
   "execution_count": 15,
   "metadata": {},
   "outputs": [
    {
     "name": "stdout",
     "output_type": "stream",
     "text": [
      "['Hello', 'How', 'are', 'you']\n"
     ]
    }
   ],
   "source": [
    "#split a string by blank spaces\n",
    "str = \"Hello How are you\"\n",
    "print(str.split(\" \")) # ['Hello', 'How', 'are', 'you']  "
   ]
  },
  {
   "cell_type": "code",
   "execution_count": 16,
   "metadata": {},
   "outputs": [
    {
     "name": "stdout",
     "output_type": "stream",
     "text": [
      "The columns are: third, second, first\n",
      "The columns are: t, h, i\n"
     ]
    }
   ],
   "source": [
    "print(\"The columns are: {2}, {1}, {0}\".format(\"first\", \"second\", \"third\")) # The columns are: third, second, first\n",
    "print(\"The columns are: {0}, {1}, {2}\".format(*\"third\", \"second\", \"first\")) # The columns are: third, second, first"
   ]
  },
  {
   "cell_type": "code",
   "execution_count": 17,
   "metadata": {},
   "outputs": [
    {
     "name": "stdout",
     "output_type": "stream",
     "text": [
      "[1, 2, 3, 4, 5]\n",
      "[1, 2, 3, 4, 5, 6]\n",
      "[0, 1, 2, 3, 4, 5, 6]\n",
      "[0, 1, 3, 4, 5, 6]\n",
      "[0, 1, 3, 4, 5]\n"
     ]
    },
    {
     "data": {
      "text/plain": [
       "5"
      ]
     },
     "execution_count": 17,
     "metadata": {},
     "output_type": "execute_result"
    }
   ],
   "source": [
    "my_list = [1, 2, 3, 4, 5]\n",
    "print(my_list)\n",
    "my_list.append(6)\n",
    "print(my_list)\n",
    "my_list.insert(0, 0)\n",
    "print(my_list)\n",
    "my_list.remove(2)\n",
    "print(my_list)\n",
    "my_list.pop()\n",
    "print(my_list)\n",
    "len(my_list)"
   ]
  },
  {
   "cell_type": "code",
   "execution_count": 18,
   "metadata": {},
   "outputs": [
    {
     "name": "stdout",
     "output_type": "stream",
     "text": [
      "[0, 1, 3, 4, 5, 7, 8, 9]\n",
      "[0, 1, 3, 4, 5, 7, 8, 9, 0, 1, 3, 4, 5, 7, 8, 9]\n"
     ]
    }
   ],
   "source": [
    "my_list = my_list + [7, 8, 9]\n",
    "print(my_list)\n",
    "my_list = my_list * 2\n",
    "print(my_list)"
   ]
  },
  {
   "cell_type": "code",
   "execution_count": 19,
   "metadata": {},
   "outputs": [
    {
     "name": "stdout",
     "output_type": "stream",
     "text": [
      "{'Name': 'Zara', 'Age': 7}\n",
      "Zara\n",
      "7\n",
      "{'Name': 'Zara', 'Age': 8}\n"
     ]
    }
   ],
   "source": [
    "Dict = {'Name': 'Zara', 'Age': 7}\n",
    "print(Dict)\n",
    "print(Dict['Name'])\n",
    "print(Dict['Age'])\n",
    "Dict['Age'] = 8\n",
    "print(Dict)"
   ]
  },
  {
   "cell_type": "code",
   "execution_count": 22,
   "metadata": {},
   "outputs": [
    {
     "name": "stdout",
     "output_type": "stream",
     "text": [
      "dict_keys(['Name', 'Age'])\n",
      "dict_values(['Zara', 8])\n",
      "dict_items([('Name', 'Zara'), ('Age', 8)])\n"
     ]
    }
   ],
   "source": [
    "print(Dict.keys())\n",
    "print(Dict.values())\n",
    "print(Dict.items())"
   ]
  },
  {
   "cell_type": "code",
   "execution_count": 23,
   "metadata": {},
   "outputs": [
    {
     "name": "stdout",
     "output_type": "stream",
     "text": [
      "Yes it was true.\n"
     ]
    }
   ],
   "source": [
    "if True:\n",
    "    print(\"Yes it was true.\")"
   ]
  },
  {
   "cell_type": "code",
   "execution_count": 24,
   "metadata": {},
   "outputs": [
    {
     "name": "stdout",
     "output_type": "stream",
     "text": [
      "Welcome to the Andhra Pradesh\n"
     ]
    }
   ],
   "source": [
    "isc = \"Andhra Pradesh\"\n",
    "\n",
    "if isc == \"Bangalore\":\n",
    "    print(\"Welcome to the Bangalore\")  \n",
    "elif isc == \"Andhra Pradesh\":\n",
    "    print(\"Welcome to the Andhra Pradesh\")\n",
    "else:\n",
    "    print(\"Where are you?\")    "
   ]
  },
  {
   "cell_type": "code",
   "execution_count": 25,
   "metadata": {},
   "outputs": [
    {
     "name": "stdout",
     "output_type": "stream",
     "text": [
      "x is equal to y\n"
     ]
    }
   ],
   "source": [
    "x = int(input(\"Please enter an integer: \"))\n",
    "y = int(input(\"Please enter another integer: \"))\n",
    "\n",
    "if x > y:\n",
    "    print(\"x is greater than y\")\n",
    "elif x < y:\n",
    "    print(\"x is less than y\")\n",
    "else:\n",
    "    print(\"x is equal to y\")"
   ]
  },
  {
   "cell_type": "code",
   "execution_count": null,
   "metadata": {},
   "outputs": [
    {
     "name": "stdout",
     "output_type": "stream",
     "text": [
      "The bill amount is: 2151.0\n"
     ]
    }
   ],
   "source": [
    "unit = int(input(\"Please enter the unit: \"))     \n",
    "\n",
    "if unit <= 200:\n",
    "    total = unit * 1.0 \n",
    "elif unit <= 300:\n",
    "    total = (200 * 1.0) + ((unit - 200) * 2.5) \n",
    "else:\n",
    "    total = (200 * 1.0) + (100 * 2.5) + ((unit - 300) * 4.5)  \n",
    "\n",
    "print(\"The bill amount is:\", total)\n"
   ]
  },
  {
   "cell_type": "code",
   "execution_count": 29,
   "metadata": {},
   "outputs": [
    {
     "name": "stdout",
     "output_type": "stream",
     "text": [
      "Total electricity bill for 1145 units: Rs. 9930\n"
     ]
    }
   ],
   "source": [
    "# Electricity Bill Calculation\n",
    "\n",
    "def calculate_electricity_bill(units):\n",
    "    if units <= 200:\n",
    "        bill = 0\n",
    "    elif units <= 500:\n",
    "        bill = (units - 200) * 8\n",
    "    elif units <= 1000:\n",
    "        bill = (300 * 8) + (units - 500) * 11\n",
    "    else:\n",
    "        bill = (300 * 8) + (500 * 11) + (units - 1000) * 14\n",
    "    \n",
    "    return bill\n",
    "\n",
    "units = int(input(\"Enter the number of units consumed: \"))\n",
    "bill_amount = calculate_electricity_bill(units)\n",
    "\n",
    "print(f\"Total electricity bill for {units} units: Rs. {bill_amount}\")"
   ]
  },
  {
   "cell_type": "code",
   "execution_count": null,
   "metadata": {},
   "outputs": [
    {
     "name": "stdout",
     "output_type": "stream",
     "text": [
      "Total tax amount for an income of Rs. 5000000: Rs. 1120000.0\n"
     ]
    }
   ],
   "source": [
    "def calculate_tax(income, savings):\n",
    "    income = in\n",
    "    if income <= 200000:\n",
    "        tax = 0\n",
    "    elif income <= 1000000:\n",
    "        tax = (income - 200000) * 0.1\n",
    "    elif income <= 2000000:\n",
    "        tax = (200000 * 0.1) + (income - 1000000) * 0.2 \n",
    "    else:\n",
    "        tax = (200000 * 0.1) + (1000000 * 0.2) + (income - 2000000) * 0.3  \n",
    "    \n",
    "    return tax\n",
    "\n",
    "income = int(input(\"Enter your annual income: \"))\n",
    "savings = int(input(\"Enter your savings: \"))\n",
    "tax_amount = calculate_tax(income)\n",
    "\n",
    "print(f\"Total tax amount for an income of Rs. {income}: Rs. {tax_amount}\")\n"
   ]
  },
  {
   "cell_type": "code",
   "execution_count": null,
   "metadata": {},
   "outputs": [],
   "source": [
    "# Electricity Bill Calculation\n",
    "\n",
    "def calculate_electricity_bill(units):\n",
    "    if units <= 200:\n",
    "        bill = 0\n",
    "    elif units <= 500:\n",
    "        bill = (units - 200) * 8\n",
    "    elif units <= 1000:\n",
    "        bill = (300 * 8) + (units - 500) * 11\n",
    "    else:\n",
    "        bill = (300 * 8) + (500 * 11) + (units - 1000) * 14\n",
    "    \n",
    "    return bill\n",
    "\n",
    "units = int(input(\"Enter the number of units consumed: \"))\n",
    "bill_amount = calculate_electricity_bill(units)\n",
    "\n",
    "print(f\"Total electricity bill for {units} units: Rs. {bill_amount}\")\n",
    "\n",
    "\n",
    "#2nd code\n",
    "def calculate_tax(salary, savings):\n",
    "    deductible_savings = min(savings, 200000)\n",
    "    taxable_salary = salary - deductible_savings\n",
    "\n",
    "    if taxable_salary <= 1000000:\n",
    "        return taxable_salary * 0.10\n",
    "    elif taxable_salary <= 2200000:\n",
    "        return 100000 + (taxable_salary - 1000000) * 0.20\n",
    "    else:\n",
    "        return 340000 + (taxable_salary - 2200000) * 0.30\n",
    "\n",
    "# Eg:\n",
    "salaries_savings = [(4500000, 150000), (6200000, 350000)]\n",
    "\n",
    "for salary, savings in salaries_savings:\n",
    "    tax = calculate_tax(salary, savings)\n",
    "    print(f\"For Salary: ₹{salary}, Savings: ₹{savings} -> Tax to be paid: ₹{tax:.2f}\")\n",
    "\n",
    "\n",
    "#3rd code\n",
    "def calculate_fd_interest(amount, years=1):\n",
    "    first_limit = 10_00_000  \n",
    "    second_limit = 15_00_000 \n",
    "    remaining_limit = amount - (first_limit + second_limit)\n",
    "    \n",
    "    interest_first = first_limit * 0.10 * years  \n",
    "    interest_second = second_limit * 0.15 * years \n",
    "    interest_remaining = remaining_limit * 0.18 * years  \n",
    "    \n",
    "    total_interest = interest_first + interest_second + interest_remaining\n",
    "    \n",
    "    return total_interest\n",
    "\n",
    "# Total FD amount\n",
    "fd_amount = 65_00_000\n",
    "interest_earned = calculate_fd_interest(fd_amount, 1)  \n",
    "print(f\"Total interest earned in 1 year on ₹{fd_amount}: ₹{interest_earned}\")"
   ]
  },
  {
   "cell_type": "code",
   "execution_count": 2,
   "metadata": {},
   "outputs": [
    {
     "name": "stdout",
     "output_type": "stream",
     "text": [
      "78 is not a prime number\n"
     ]
    }
   ],
   "source": [
    "#code to check whether the entered number is prime or not\n",
    "num = int(input(\"Enter a number: \"))\n",
    "if num > 1:\n",
    "    for i in range(2, num):\n",
    "        if (num % i) == 0:\n",
    "            print(num, \"is not a prime number\")\n",
    "            break\n",
    "    else:\n",
    "        print(num, \"is a prime number\")"
   ]
  },
  {
   "cell_type": "code",
   "execution_count": 3,
   "metadata": {},
   "outputs": [
    {
     "name": "stdout",
     "output_type": "stream",
     "text": [
      "153 is an Armstrong number\n"
     ]
    }
   ],
   "source": [
    "#code to check whether the entered number is armstrong or not\n",
    "num = int(input(\"Enter a number: \"))\n",
    "sum = 0\n",
    "temp = num\n",
    "while temp > 0:\n",
    "    digit = temp % 10\n",
    "    sum += digit ** 3\n",
    "    temp //= 10\n",
    "if num == sum:\n",
    "    print(num, \"is an Armstrong number\")\n",
    "else:\n",
    "    print(num, \"is not an Armstrong number\")"
   ]
  },
  {
   "cell_type": "code",
   "execution_count": null,
   "metadata": {},
   "outputs": [
    {
     "name": "stdout",
     "output_type": "stream",
     "text": [
      "Fibonacci Series:\n",
      "0 1 1 2 3 5 8 13 21 34 55 89 "
     ]
    }
   ],
   "source": [
    "#fibonacci series code\n",
    "n = int(input(\"Enter the number of terms: \"))\n",
    "a, b = 0, 1 \n",
    "print(\"Fibonacci Series:\") \n",
    "for i in range(n):\n",
    "    print(a, end=\" \")\n",
    "    a, b = b, a + b "
   ]
  },
  {
   "cell_type": "code",
   "execution_count": 1,
   "metadata": {},
   "outputs": [
    {
     "name": "stdout",
     "output_type": "stream",
     "text": [
      "Length of the string is: 6\n"
     ]
    }
   ],
   "source": [
    "#code to find the length of the given string without using len() function\n",
    "str = input(\"Enter a string: \")\n",
    "length = 0\n",
    "for i in str:\n",
    "    length += 1\n",
    "print(\"Length of the string is:\", length)"
   ]
  },
  {
   "cell_type": "code",
   "execution_count": null,
   "metadata": {},
   "outputs": [
    {
     "name": "stdout",
     "output_type": "stream",
     "text": [
      "Modified string: JAY\n"
     ]
    }
   ],
   "source": [
    "#code to replacing the uppercase characters with lowercase and vice versa in a given string without using any functions like isupper(), islower(), upper(), lower() \n",
    "user_input = input(\"Enter a string: \")\n",
    "new_str = \"\"\n",
    "\n",
    "for char in user_input:\n",
    "    ascii_value = ord(char)  # Get ASCII value of the character\n",
    "    \n",
    "    if 65 <= ascii_value <= 90:  # Uppercase (A-Z)\n",
    "        new_str += chr(ascii_value + 32)  # Convert to lowercase\n",
    "    elif 97 <= ascii_value <= 122:  # Lowercase (a-z)\n",
    "        new_str += chr(ascii_value - 32)  # Convert to uppercase\n",
    "    else:\n",
    "        new_str += char  \n",
    "\n",
    "print(\"Modified string:\", new_str)\n"
   ]
  },
  {
   "cell_type": "code",
   "execution_count": 5,
   "metadata": {},
   "outputs": [
    {
     "name": "stdout",
     "output_type": "stream",
     "text": [
      "Fibonacci Series:\n",
      "0 1 1 2 3 5 8 13 21 34 55 89 "
     ]
    }
   ],
   "source": [
    "#code to print the fibonaaaci series upto n terms using while loop\n",
    "n = int(input(\"Enter the number of terms: \"))\n",
    "a, b = 0, 1 \n",
    "print(\"Fibonacci Series:\") \n",
    "while n > 0:\n",
    "    print(a, end=\" \")\n",
    "    a, b = b, a + b \n",
    "    n -= 1"
   ]
  },
  {
   "cell_type": "code",
   "execution_count": 10,
   "metadata": {},
   "outputs": [
    {
     "name": "stdout",
     "output_type": "stream",
     "text": [
      "Sum of the digits of the number: 28\n"
     ]
    }
   ],
   "source": [
    "num = int(input(\"Enter a number: \"))\n",
    "sum = 0\n",
    "temp = num\n",
    "while temp > 0:\n",
    "    digit = temp % 10\n",
    "    sum += digit\n",
    "    temp //= 10\n",
    "print(\"Sum of the digits of the number:\", sum)"
   ]
  },
  {
   "cell_type": "code",
   "execution_count": 11,
   "metadata": {},
   "outputs": [
    {
     "name": "stdout",
     "output_type": "stream",
     "text": [
      "*\n",
      "**\n",
      "***\n",
      "****\n",
      "*****\n"
     ]
    }
   ],
   "source": [
    "#code to print he stars in the form of right angled triangle using function\n",
    "def print_stars(n):\n",
    "    for i in range(1, n + 1):\n",
    "        print(\"*\" * i)\n",
    "\n",
    "print_stars(5)"
   ]
  },
  {
   "cell_type": "code",
   "execution_count": 12,
   "metadata": {},
   "outputs": [
    {
     "name": "stdout",
     "output_type": "stream",
     "text": [
      "    *\n",
      "   ***\n",
      "  *****\n",
      " *******\n",
      "*********\n"
     ]
    }
   ],
   "source": [
    "#code to print the stars in the pyramid form using function\n",
    "def print_stars(n):\n",
    "    for i in range(1, n + 1):\n",
    "        print(\" \" * (n - i) + \"*\" * (2 * i - 1))\n",
    "\n",
    "print_stars(5)"
   ]
  },
  {
   "cell_type": "code",
   "execution_count": 13,
   "metadata": {},
   "outputs": [
    {
     "name": "stdout",
     "output_type": "stream",
     "text": [
      "*********\n",
      " *******\n",
      "  *****\n",
      "   ***\n",
      "    *\n"
     ]
    }
   ],
   "source": [
    "#code to print the stars in the reverse pyramid form using function\n",
    "def print_stars(n):\n",
    "    for i in range(n, 0, -1):\n",
    "        print(\" \" * (n - i) + \"*\" * (2 * i - 1))\n",
    "\n",
    "print_stars(5)"
   ]
  }
 ],
 "metadata": {
  "kernelspec": {
   "display_name": "Python 3",
   "language": "python",
   "name": "python3"
  },
  "language_info": {
   "codemirror_mode": {
    "name": "ipython",
    "version": 3
   },
   "file_extension": ".py",
   "mimetype": "text/x-python",
   "name": "python",
   "nbconvert_exporter": "python",
   "pygments_lexer": "ipython3",
   "version": "3.12.6"
  }
 },
 "nbformat": 4,
 "nbformat_minor": 2
}
