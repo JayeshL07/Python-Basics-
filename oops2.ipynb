{
 "cells": [
  {
   "cell_type": "code",
   "execution_count": null,
   "metadata": {},
   "outputs": [
    {
     "name": "stdout",
     "output_type": "stream",
     "text": [
      "35\n"
     ]
    }
   ],
   "source": [
    "num1 = int(input(\"Enter a number: \"))\n",
    "num2 = int(input(\"Enter another number: \"))\n",
    "\n",
    "def add(num1, num2):\n",
    "    return num1 + num2\n",
    "\n",
    "def subtract(num1, num2):\n",
    "    return num1 - num2\n",
    "\n",
    "def multiply(num1, num2):\n",
    "    return num1 * num2\n",
    "\n",
    "def divide(num1, num2):\n",
    "    return num1 / num2\n",
    "\n",
    "operation = input(\"Enter the operation (+, -, *, /): \")\n",
    "\n",
    "if operation == \"+\":\n",
    "    print(add(num1, num2))\n",
    "elif operation == \"-\":\n",
    "    print(subtract(num1, num2))\n",
    "elif operation == \"*\":\n",
    "    print(multiply(num1, num2))\n",
    "elif operation == \"/\":\n",
    "    print(divide(num1, num2))\n",
    "else:\n",
    "    print(\"Invalid operation\")\n"
   ]
  },
  {
   "cell_type": "code",
   "execution_count": 24,
   "metadata": {},
   "outputs": [
    {
     "name": "stdout",
     "output_type": "stream",
     "text": [
      "Tails\n",
      "Tails\n"
     ]
    }
   ],
   "source": [
    "import random as rand\n",
    "\n",
    "# rand.random() # random float between 0 and 1\n",
    "toss = rand.randint(0,1) # random integer between 0 and 1\n",
    "if toss == 0:\n",
    "    print(\"Heads\")\n",
    "else:\n",
    "    print(\"Tails\")\n",
    "\n",
    "# <true value> if <condition> else <false value>\n",
    "print(\"Heads\" if toss == 0 else \"Tails\")\n"
   ]
  },
  {
   "cell_type": "code",
   "execution_count": null,
   "metadata": {},
   "outputs": [
    {
     "name": "stdout",
     "output_type": "stream",
     "text": [
      "Eve\n"
     ]
    }
   ],
   "source": [
    "names = [\"Alice\", \"Bob\", \"Charlie\", \"David\", \"Eve\"]\n",
    "#rand.choice(names) # random choice from list\n",
    "print(names[rand.randint(0, len(names) - 1)])"
   ]
  },
  {
   "cell_type": "code",
   "execution_count": 34,
   "metadata": {},
   "outputs": [
    {
     "name": "stdout",
     "output_type": "stream",
     "text": [
      "Too high!\n",
      "Too high!\n",
      "Too high!\n",
      "Too high!\n",
      "Too high!\n",
      "Too low!\n",
      "You guessed it!\n"
     ]
    }
   ],
   "source": [
    "import random as rand\n",
    "secret_number = rand.randint(1, 100)\n",
    "guess = None\n",
    "while guess != secret_number:\n",
    "    guess = int(input(\"Guess a number between 1 and 100: \"))\n",
    "    if guess < secret_number:\n",
    "        print(\"Too low!\")\n",
    "    elif guess > secret_number:\n",
    "        print(\"Too high!\")\n",
    "print(\"You guessed it!\")"
   ]
  },
  {
   "cell_type": "code",
   "execution_count": 36,
   "metadata": {},
   "outputs": [
    {
     "name": "stdout",
     "output_type": "stream",
     "text": [
      "{} {}\n",
      "{1: 'one', 'name': 'Alice', 'age': 25}\n",
      "one\n",
      "Alice\n",
      "25\n"
     ]
    }
   ],
   "source": [
    "empty_dict1 = {}\n",
    "empty_dict2 = dict()\n",
    "print(empty_dict1, empty_dict2)\n",
    "emp_info = {1: \"one\", \"name\":\"Alice\", \"age\": 25}\n",
    "print(emp_info)\n",
    "print(emp_info[1])\n",
    "print(emp_info[\"name\"])\n",
    "print(emp_info[\"age\"])"
   ]
  },
  {
   "cell_type": "code",
   "execution_count": null,
   "metadata": {},
   "outputs": [
    {
     "name": "stdout",
     "output_type": "stream",
     "text": [
      "Valid password\n"
     ]
    }
   ],
   "source": [
    "password = input(\"Enter your password: \")\n",
    "if len(password) < 6 or \" \" in password:\n",
    "    print(\"Invalid password\")\n",
    "else:\n",
    "    has_digit = False\n",
    "    has_alpha = False\n",
    "    has_special = False\n",
    "    for char in password:\n",
    "        if char.isdigit():\n",
    "            has_digit = True\n",
    "        elif char.isalpha():\n",
    "            has_alpha = True\n",
    "        else:\n",
    "            has_special = True\n",
    "    if has_digit and has_alpha and has_special:\n",
    "        print(\"Valid password\")\n",
    "    else:\n",
    "        print(\"Invalid password\")"
   ]
  },
  {
   "cell_type": "code",
   "execution_count": null,
   "metadata": {},
   "outputs": [
    {
     "name": "stdout",
     "output_type": "stream",
     "text": [
      "0\n"
     ]
    }
   ],
   "source": [
    "#Write a program to print the no. of occurences of a given character in a given string (without using count method).\n",
    "string = input(\"Enter a string: \")\n",
    "char = input(\"Enter a character: \")\n",
    "\n",
    "count = 0\n",
    "for c in string:\n",
    "    if c == char:\n",
    "        count += 1\n",
    "print(count)    "
   ]
  },
  {
   "cell_type": "code",
   "execution_count": 44,
   "metadata": {},
   "outputs": [
    {
     "name": "stdout",
     "output_type": "stream",
     "text": [
      "1\n",
      "2\n",
      "Fizz\n",
      "4\n",
      "Buzz\n",
      "Fizz\n",
      "7\n",
      "8\n",
      "Fizz\n",
      "Buzz\n",
      "11\n",
      "Fizz\n",
      "13\n",
      "14\n",
      "FizzBuzz\n",
      "16\n",
      "17\n",
      "Fizz\n",
      "19\n",
      "Buzz\n",
      "Fizz\n",
      "22\n",
      "23\n",
      "Fizz\n",
      "Buzz\n",
      "26\n",
      "Fizz\n",
      "28\n",
      "29\n",
      "FizzBuzz\n",
      "31\n",
      "32\n",
      "Fizz\n",
      "34\n",
      "Buzz\n",
      "Fizz\n",
      "37\n",
      "38\n",
      "Fizz\n",
      "Buzz\n",
      "41\n",
      "Fizz\n",
      "43\n",
      "44\n",
      "FizzBuzz\n",
      "46\n",
      "47\n",
      "Fizz\n",
      "49\n",
      "Buzz\n",
      "Fizz\n",
      "52\n",
      "53\n",
      "Fizz\n",
      "Buzz\n",
      "56\n",
      "Fizz\n",
      "58\n",
      "59\n",
      "FizzBuzz\n",
      "61\n",
      "62\n",
      "Fizz\n",
      "64\n",
      "Buzz\n",
      "Fizz\n",
      "67\n",
      "68\n",
      "Fizz\n",
      "Buzz\n",
      "71\n",
      "Fizz\n",
      "73\n",
      "74\n",
      "FizzBuzz\n",
      "76\n",
      "77\n",
      "Fizz\n",
      "79\n",
      "Buzz\n",
      "Fizz\n",
      "82\n",
      "83\n",
      "Fizz\n",
      "Buzz\n",
      "86\n",
      "Fizz\n",
      "88\n",
      "89\n",
      "FizzBuzz\n",
      "91\n",
      "92\n",
      "Fizz\n",
      "94\n",
      "Buzz\n",
      "Fizz\n",
      "97\n",
      "98\n",
      "Fizz\n",
      "Buzz\n"
     ]
    }
   ],
   "source": [
    "#write a fizzbuzz program.\n",
    "# hint - if the number is divisible to 3 print 'Fizz', if divisible by 5 means print 'Buzz'\n",
    "# if divisible by both 3 and 5 means print 'FizzBuzz'.\n",
    "for i in range(1, 101):\n",
    "    if i % 3 == 0 and i % 5 == 0:\n",
    "        print(\"FizzBuzz\")\n",
    "    elif i % 3 == 0:\n",
    "        print(\"Fizz\")\n",
    "    elif i % 5 == 0:\n",
    "        print(\"Buzz\")\n",
    "    else:\n",
    "        print(i)"
   ]
  },
  {
   "cell_type": "code",
   "execution_count": 45,
   "metadata": {},
   "outputs": [
    {
     "name": "stdout",
     "output_type": "stream",
     "text": [
      "Generated Password: 7}DhCI,\"y?1l}J{:I=hLtK\\m~1TtREDv+6\n"
     ]
    }
   ],
   "source": [
    "#give length of the password as input from the user and create a random password generator program which contain alphabet, number and special characters.\n",
    "\n",
    "import random as rand\n",
    "import string\n",
    "\n",
    "def generate_password(length):\n",
    "    characters = string.ascii_letters + string.digits + string.punctuation\n",
    "    password = \"\".join(rand.choice(characters) for i in range(length))\n",
    "    return password\n",
    "\n",
    "length = int(input(\"Enter the length of the password: \"))\n",
    "password = generate_password(length)\n",
    "print(f\"Generated Password: {password}\")"
   ]
  },
  {
   "cell_type": "code",
   "execution_count": 52,
   "metadata": {},
   "outputs": [
    {
     "name": "stdout",
     "output_type": "stream",
     "text": [
      "Computer chose: scissor\n",
      "You lose!\n"
     ]
    }
   ],
   "source": [
    "#rock, paper, scissor game\n",
    "import random as rand\n",
    "\n",
    "choices = [\"rock\", \"paper\", \"scissor\"]\n",
    "player_choice = input(\"Enter your choice (rock, paper, scissor): \")\n",
    "computer_choice = rand.choice(choices)\n",
    "print(f\"Computer chose: {computer_choice}\")\n",
    "\n",
    "if player_choice == computer_choice:\n",
    "    print(\"It's a tie!\")\n",
    "elif player_choice == \"rock\" and computer_choice == \"scissor\":\n",
    "    print(\"You win!\")\n",
    "elif player_choice == \"paper\" and computer_choice == \"rock\":\n",
    "    print(\"You win!\")\n",
    "elif player_choice == \"scissor\" and computer_choice == \"paper\":\n",
    "    print(\"You win!\")\n",
    "else:\n",
    "    print(\"You lose!\")"
   ]
  }
 ],
 "metadata": {
  "kernelspec": {
   "display_name": "Python 3",
   "language": "python",
   "name": "python3"
  },
  "language_info": {
   "codemirror_mode": {
    "name": "ipython",
    "version": 3
   },
   "file_extension": ".py",
   "mimetype": "text/x-python",
   "name": "python",
   "nbconvert_exporter": "python",
   "pygments_lexer": "ipython3",
   "version": "3.12.6"
  }
 },
 "nbformat": 4,
 "nbformat_minor": 2
}
